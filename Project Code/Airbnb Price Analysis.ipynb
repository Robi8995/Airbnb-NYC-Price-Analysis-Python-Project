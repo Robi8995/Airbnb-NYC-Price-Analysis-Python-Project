import pandas as pd

# Load the CSV
df = pd.read_csv("AB_NYC_2019.csv")

# Check first 5 rows
df.head()

# Shape of dataset
print("Rows, Columns:", df.shape)

# Column info + datatypes
print(df.info())

# Missing values
print(df.isnull().sum())

# Basic statistics
print(df.describe(include='all'))

import matplotlib.pyplot as plt
import seaborn as sns

# Average price by neighbourhood group (Manhattan, Brooklyn, etc.)
avg_price_group = df.groupby("neighbourhood_group")["price"].mean().sort_values()
sns.barplot(x=avg_price_group.index, y=avg_price_group.values)
plt.title("Average Airbnb Price by Neighbourhood Group")
plt.ylabel("Average Price")
plt.show()

# Average price by room type
plt.figure(figsize=(6,4))
avg_price_room = df.groupby("room_type", as_index=False)["price"].mean()
sns.barplot(data=avg_price_room, x="room_type", y="price", hue="room_type", dodge=False, legend=False)
plt.title("Average Airbnb Price by Room Type")
plt.ylabel("Average Price ($)")
plt.xlabel("Room Type")
plt.show()

# Top 20 most expensive neighbourhoods
plt.figure(figsize=(12,6))

# Compute average price per neighbourhood
avg_price_neigh = df.groupby(["neighbourhood_group","neighbourhood"], as_index=False)["price"].mean()

# Select top 20 by price
top20 = avg_price_neigh.sort_values("price", ascending=False).head(20)

# Plot
sns.barplot(data=top20, x="neighbourhood", y="price", hue="neighbourhood_group")
plt.xticks(rotation=45, ha='right')
plt.title("Top 20 Most Expensive Airbnb Neighbourhoods")
plt.ylabel("Average Price ($)")
plt.xlabel("Neighbourhood")
plt.legend(title="Neighbourhood Group")
plt.show()

# Seasonality Analysis
import matplotlib.dates as mdates

# Convert last_review to datetime
df['last_review'] = pd.to_datetime(df['last_review'], errors='coerce')

# Extract month
df['review_month'] = df['last_review'].dt.month

# Compute average price per month
avg_price_month = df.groupby('review_month')['price'].mean().reset_index()

# Plot
plt.figure(figsize=(10,5))
sns.lineplot(data=avg_price_month, x='review_month', y='price', marker='o')
plt.title("Average Airbnb Price by Month (Seasonality)")
plt.xlabel("Month")
plt.ylabel("Average Price ($)")
plt.xticks(range(1,13))
plt.show()

# Remove price = 0 and top 1% as outliers
df_clean = df[(df['price'] > 0) & (df['price'] < df['price'].quantile(0.99))]

print("Rows after cleaning:", df_clean.shape[0])

# Cap minimum_nights to 30 safely
df_clean.loc[:, 'minimum_nights'] = df_clean['minimum_nights'].apply(lambda x: x if x <= 30 else 30)

# Check max and some sample values of minimum_nights
print("Max minimum_nights:", df_clean['minimum_nights'].max())
print(df_clean['minimum_nights'].head(10))

import matplotlib.pyplot as plt
import seaborn as sns

# Set style
sns.set(style="whitegrid")

# Create figure with two subplots
fig, axes = plt.subplots(1, 2, figsize=(18, 6))

# ------------------------------
# Block 1: Price Distribution by Room Type (Boxplot)
# ------------------------------
sns.boxplot(data=df_clean, x='room_type', y='price',
            hue='room_type', palette="magma", legend=False, ax=axes[0])
axes[0].set_title("Price Distribution by Room Type (Boxplot)", fontsize=14, weight='bold')
axes[0].set_xlabel("Room Type")
axes[0].set_ylabel("Price")

# ------------------------------
# Block 2: Price Distribution by Room Type (Histogram)
# ------------------------------
sns.histplot(data=df_clean, x="price", hue="room_type",
             multiple="stack", palette="magma", bins=50, ax=axes[1])
axes[1].set_title("Price Distribution by Room Type (Histogram)", fontsize=14, weight='bold')
axes[1].set_xlabel("Price")
axes[1].set_ylabel("Count")

# Adjust layout
plt.tight_layout()
plt.show()


